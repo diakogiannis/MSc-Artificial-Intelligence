{
  "nbformat": 4,
  "nbformat_minor": 0,
  "metadata": {
    "colab": {
      "provenance": []
    },
    "kernelspec": {
      "name": "python3",
      "display_name": "Python 3"
    },
    "language_info": {
      "name": "python"
    }
  },
  "cells": [
    {
      "cell_type": "code",
      "execution_count": null,
      "metadata": {
        "colab": {
          "base_uri": "https://localhost:8080/"
        },
        "id": "PakfkhZbW3D-",
        "outputId": "fe25f4d6-a545-48b7-92f7-06a0e5421c03"
      },
      "outputs": [
        {
          "output_type": "stream",
          "name": "stdout",
          "text": [
            "Requirement already satisfied: pyswisseph in /usr/local/lib/python3.11/dist-packages (2.10.3.2)\n"
          ]
        }
      ],
      "source": [
        "# Cell 1 – εγκατάσταση βιβλιοθήκης\n",
        "!pip install pyswisseph\n"
      ]
    },
    {
      "cell_type": "code",
      "source": [
        "# Cell 2 – imports, σταθερές\n",
        "import csv, json, os, urllib.request, shutil\n",
        "import swisseph as swe\n",
        "from datetime import datetime\n",
        "drive.mount('/content/drive')  # ενεργοποίησέ το μόνο σε Colab\n",
        "\n",
        "PLANETS = {\n",
        "    \"Sun\": swe.SUN, \"Moon\": swe.MOON, \"Mercury\": swe.MERCURY,\n",
        "    \"Venus\": swe.VENUS, \"Mars\": swe.MARS, \"Jupiter\": swe.JUPITER,\n",
        "    \"Saturn\": swe.SATURN, \"Uranus\": swe.URANUS,\n",
        "    \"Neptune\": swe.NEPTUNE, \"Pluto\": swe.PLUTO,\n",
        "}\n",
        "\n",
        "SE_URL  = \"https://ftp.astro.com/pub/swisseph/ephe/sepl_18.se1\"\n",
        "SE_FILE = \"/content/drive/MyDrive/Studies/sepl_18.se1\"\n",
        "INPUT_FILE = \"/content/drive/MyDrive/Studies/input.csv\"\n",
        "base_dir = \"/content/drive/MyDrive/Studies\"\n"
      ],
      "metadata": {
        "colab": {
          "base_uri": "https://localhost:8080/"
        },
        "id": "dVm4HBVKe27Y",
        "outputId": "10c4f6b9-7f53-424c-b574-9dafbe99302e"
      },
      "execution_count": null,
      "outputs": [
        {
          "output_type": "stream",
          "name": "stdout",
          "text": [
            "Drive already mounted at /content/drive; to attempt to forcibly remount, call drive.mount(\"/content/drive\", force_remount=True).\n"
          ]
        }
      ]
    },
    {
      "cell_type": "code",
      "source": [
        "# Cell 3 – βοηθητικές\n",
        "def ensure_ephemeris():\n",
        "    if not os.path.exists(SE_FILE):\n",
        "        print(\"Downloading Swiss Ephemeris …\")\n",
        "        with urllib.request.urlopen(SE_URL) as r, open(SE_FILE, \"wb\") as f:\n",
        "            shutil.copyfileobj(r, f)\n",
        "    swe.set_ephe_path(os.getcwd())\n",
        "\n",
        "def calc_positions(jd_ut, lat, lon):\n",
        "    out = {n: swe.calc_ut(jd_ut, c, swe.FLG_SWIEPH)[0] for n, c in PLANETS.items()}\n",
        "    asc, mc, *_ = swe.houses_ex(jd_ut, lat, lon, b'P')[0:7]\n",
        "    out[\"ASC\"], out[\"MC\"] = asc, mc\n",
        "    return out\n"
      ],
      "metadata": {
        "id": "ZTO7UJHae5cg"
      },
      "execution_count": null,
      "outputs": []
    },
    {
      "cell_type": "code",
      "source": [
        "csv_out = os.path.join(base_dir, \"angle_errors.csv\")\n",
        "\n",
        "# Cell 4 – generate one JSON per entry (Swiss Ephemeris only)\n",
        "csv_path = INPUT_FILE\n",
        "\n",
        "ensure_ephemeris()\n",
        "\n",
        "with open(csv_path, newline='') as fin:\n",
        "    reader = csv.DictReader(fin)\n",
        "    for row in reader:\n",
        "        # Παράδειγμα: \"1979-04-18 17:30\"\n",
        "        dt = datetime.strptime(f\"{row['date']} {row['time']}\", \"%Y-%m-%d %H:%M\")\n",
        "        jd = swe.julday(\n",
        "            dt.year, dt.month, dt.day,\n",
        "            dt.hour + dt.minute/60,\n",
        "            swe.GREG_CAL\n",
        "        )\n",
        "        lat = float(row['lat'])\n",
        "        lon = float(row['lon'])\n",
        "\n",
        "        # Υπολογισμός θέσεων\n",
        "        vals = calc_positions(jd, lat, lon)\n",
        "\n",
        "        # Δημιουργία JSON\n",
        "        out = {\n",
        "            \"id\": row[\"id\"],\n",
        "            \"positions_deg\": vals\n",
        "        }\n",
        "\n",
        "        # Γράψε το αρχείο ακριβώς δίπλα στο CSV\n",
        "        fname = os.path.join(os.path.dirname(csv_path), f\"{row['id']}.json\")\n",
        "        with open(fname, 'w', encoding='utf8') as f:\n",
        "            json.dump(out, f, ensure_ascii=False, indent=2)\n",
        "\n",
        "        print(f\"Wrote {fname}\")\n"
      ],
      "metadata": {
        "colab": {
          "base_uri": "https://localhost:8080/"
        },
        "id": "Qub-Agc5e7tB",
        "outputId": "2f4195c1-001e-4926-c038-04b5066360a6"
      },
      "execution_count": null,
      "outputs": [
        {
          "output_type": "stream",
          "name": "stdout",
          "text": [
            "Wrote /content/drive/MyDrive/Studies/R-01.json\n",
            "Wrote /content/drive/MyDrive/Studies/S-02.json\n",
            "Wrote /content/drive/MyDrive/Studies/S-03.json\n",
            "Wrote /content/drive/MyDrive/Studies/S-04.json\n",
            "Wrote /content/drive/MyDrive/Studies/S-05.json\n",
            "Wrote /content/drive/MyDrive/Studies/S-06.json\n",
            "Wrote /content/drive/MyDrive/Studies/S-07.json\n",
            "Wrote /content/drive/MyDrive/Studies/S-08.json\n",
            "Wrote /content/drive/MyDrive/Studies/S-09.json\n",
            "Wrote /content/drive/MyDrive/Studies/S-10.json\n"
          ]
        }
      ]
    }
  ]
}